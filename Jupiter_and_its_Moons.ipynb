{
 "cells": [
  {
   "cell_type": "markdown",
   "id": "e8b2bf13",
   "metadata": {},
   "source": [
    "<center><b>Jupiter and it's Moons</b><center>"
   ]
  },
  {
   "cell_type": "markdown",
   "id": "1ed9cb97",
   "metadata": {},
   "source": [
    "A Moons class has been created in python to allow easier access to information on jupiter's moons for further analysis."
   ]
  },
  {
   "cell_type": "markdown",
   "id": "c9102cca",
   "metadata": {},
   "source": [
    "Import the Moons class from the relevent python module and create an instance of the class, which will allow the different class methods to be called"
   ]
  },
  {
   "cell_type": "code",
   "execution_count": 1,
   "id": "58f37f61",
   "metadata": {},
   "outputs": [],
   "source": [
    "from jupiter import Moons\n",
    "\n",
    "jupiter_moons = Moons()"
   ]
  },
  {
   "cell_type": "markdown",
   "id": "286f27dd",
   "metadata": {},
   "source": [
    "Here is a list of the information that can be accessed for each moon:\n",
    "- <b>Orbital period</b> (input as \"period_days\")\n",
    "- <b>Distance from jupiter</b>: (input as \"distance_km\")\n",
    "- <b>Radius</b>: (input as \"radius_km\")\n",
    "- <b>Apparent magnitude</b>: (input as \"mag\")\n",
    "- <b>Mass</b>: (input as \"mass_kg\")\n",
    "- <b>Group</b>: (input as \"group\")\n",
    "- <b>Eccentricity</b>: (input as \"ecc\")\n",
    "- <b>Inclination</b>: (input as inclination_deg\")"
   ]
  },
  {
   "cell_type": "markdown",
   "id": "5581ef05",
   "metadata": {},
   "source": [
    "<b><u>Specific Data</u></b>"
   ]
  },
  {
   "cell_type": "markdown",
   "id": "954cab61",
   "metadata": {},
   "source": [
    "All information on a specific moon can be displayed by calling the following method:"
   ]
  },
  {
   "cell_type": "code",
   "execution_count": 2,
   "id": "5540afbd",
   "metadata": {},
   "outputs": [
    {
     "data": {
      "text/plain": [
       "period_days                              7.15\n",
       "distance_km                         1070400.0\n",
       "radius_km                              2634.1\n",
       "mag                                      4.61\n",
       "mass_kg            148190000000000004718592.0\n",
       "group                                Galilean\n",
       "ecc                                    0.0013\n",
       "inclination_deg                           2.2\n",
       "Name: Ganymede, dtype: object"
      ]
     },
     "execution_count": 2,
     "metadata": {},
     "output_type": "execute_result"
    }
   ],
   "source": [
    "jupiter_moons.specific_moon(name = \"Ganymede\")"
   ]
  },
  {
   "cell_type": "markdown",
   "id": "fdc5039b",
   "metadata": {},
   "source": [
    "Alternatively, a specific type of data can be selected for a chosen moon like this:"
   ]
  },
  {
   "cell_type": "code",
   "execution_count": 3,
   "id": "364aa284",
   "metadata": {},
   "outputs": [
    {
     "name": "stdout",
     "output_type": "stream",
     "text": [
      "Ganymede's inclination_deg is 2.2\n"
     ]
    }
   ],
   "source": [
    "jupiter_moons.specific_data(name = \"Ganymede\", attribute = \"inclination_deg\")"
   ]
  },
  {
   "cell_type": "markdown",
   "id": "416394c2",
   "metadata": {},
   "source": [
    "<b><u>Statistics, Correlations and Plots</u></b>"
   ]
  },
  {
   "cell_type": "markdown",
   "id": "7b1c6e3e",
   "metadata": {},
   "source": [
    "Statistical information can also be accessed using the Class methods."
   ]
  },
  {
   "cell_type": "code",
   "execution_count": 4,
   "id": "d4027d19",
   "metadata": {},
   "outputs": [
    {
     "data": {
      "text/html": [
       "<div>\n",
       "<style scoped>\n",
       "    .dataframe tbody tr th:only-of-type {\n",
       "        vertical-align: middle;\n",
       "    }\n",
       "\n",
       "    .dataframe tbody tr th {\n",
       "        vertical-align: top;\n",
       "    }\n",
       "\n",
       "    .dataframe thead th {\n",
       "        text-align: right;\n",
       "    }\n",
       "</style>\n",
       "<table border=\"1\" class=\"dataframe\">\n",
       "  <thead>\n",
       "    <tr style=\"text-align: right;\">\n",
       "      <th></th>\n",
       "      <th>period_days</th>\n",
       "      <th>distance_km</th>\n",
       "      <th>radius_km</th>\n",
       "      <th>mag</th>\n",
       "      <th>mass_kg</th>\n",
       "      <th>ecc</th>\n",
       "      <th>inclination_deg</th>\n",
       "    </tr>\n",
       "  </thead>\n",
       "  <tbody>\n",
       "    <tr>\n",
       "      <th>count</th>\n",
       "      <td>56.000000</td>\n",
       "      <td>5.600000e+01</td>\n",
       "      <td>56.000000</td>\n",
       "      <td>53.000000</td>\n",
       "      <td>6.000000e+00</td>\n",
       "      <td>56.000000</td>\n",
       "      <td>56.000000</td>\n",
       "    </tr>\n",
       "    <tr>\n",
       "      <th>mean</th>\n",
       "      <td>525.998146</td>\n",
       "      <td>1.775655e+07</td>\n",
       "      <td>158.969643</td>\n",
       "      <td>20.418302</td>\n",
       "      <td>6.551798e+22</td>\n",
       "      <td>0.222922</td>\n",
       "      <td>113.571607</td>\n",
       "    </tr>\n",
       "    <tr>\n",
       "      <th>std</th>\n",
       "      <td>272.670243</td>\n",
       "      <td>8.253688e+06</td>\n",
       "      <td>557.730632</td>\n",
       "      <td>4.926587</td>\n",
       "      <td>6.010469e+22</td>\n",
       "      <td>0.126899</td>\n",
       "      <td>64.562822</td>\n",
       "    </tr>\n",
       "    <tr>\n",
       "      <th>min</th>\n",
       "      <td>0.290000</td>\n",
       "      <td>1.280000e+05</td>\n",
       "      <td>1.000000</td>\n",
       "      <td>4.610000</td>\n",
       "      <td>2.080000e+18</td>\n",
       "      <td>0.000200</td>\n",
       "      <td>0.030000</td>\n",
       "    </tr>\n",
       "    <tr>\n",
       "      <th>25%</th>\n",
       "      <td>258.750000</td>\n",
       "      <td>1.170252e+07</td>\n",
       "      <td>1.500000</td>\n",
       "      <td>20.800000</td>\n",
       "      <td>1.200276e+22</td>\n",
       "      <td>0.159201</td>\n",
       "      <td>30.582500</td>\n",
       "    </tr>\n",
       "    <tr>\n",
       "      <th>50%</th>\n",
       "      <td>632.500000</td>\n",
       "      <td>2.129009e+07</td>\n",
       "      <td>2.000000</td>\n",
       "      <td>22.500000</td>\n",
       "      <td>6.865891e+22</td>\n",
       "      <td>0.228000</td>\n",
       "      <td>148.600000</td>\n",
       "    </tr>\n",
       "    <tr>\n",
       "      <th>75%</th>\n",
       "      <td>725.500000</td>\n",
       "      <td>2.336375e+07</td>\n",
       "      <td>11.562500</td>\n",
       "      <td>23.000000</td>\n",
       "      <td>1.030252e+23</td>\n",
       "      <td>0.298858</td>\n",
       "      <td>159.175000</td>\n",
       "    </tr>\n",
       "    <tr>\n",
       "      <th>max</th>\n",
       "      <td>787.000000</td>\n",
       "      <td>2.458309e+07</td>\n",
       "      <td>2634.100000</td>\n",
       "      <td>23.700000</td>\n",
       "      <td>1.481900e+23</td>\n",
       "      <td>0.611016</td>\n",
       "      <td>166.200000</td>\n",
       "    </tr>\n",
       "  </tbody>\n",
       "</table>\n",
       "</div>"
      ],
      "text/plain": [
       "       period_days   distance_km    radius_km        mag       mass_kg  \\\n",
       "count    56.000000  5.600000e+01    56.000000  53.000000  6.000000e+00   \n",
       "mean    525.998146  1.775655e+07   158.969643  20.418302  6.551798e+22   \n",
       "std     272.670243  8.253688e+06   557.730632   4.926587  6.010469e+22   \n",
       "min       0.290000  1.280000e+05     1.000000   4.610000  2.080000e+18   \n",
       "25%     258.750000  1.170252e+07     1.500000  20.800000  1.200276e+22   \n",
       "50%     632.500000  2.129009e+07     2.000000  22.500000  6.865891e+22   \n",
       "75%     725.500000  2.336375e+07    11.562500  23.000000  1.030252e+23   \n",
       "max     787.000000  2.458309e+07  2634.100000  23.700000  1.481900e+23   \n",
       "\n",
       "             ecc  inclination_deg  \n",
       "count  56.000000        56.000000  \n",
       "mean    0.222922       113.571607  \n",
       "std     0.126899        64.562822  \n",
       "min     0.000200         0.030000  \n",
       "25%     0.159201        30.582500  \n",
       "50%     0.228000       148.600000  \n",
       "75%     0.298858       159.175000  \n",
       "max     0.611016       166.200000  "
      ]
     },
     "execution_count": 4,
     "metadata": {},
     "output_type": "execute_result"
    }
   ],
   "source": [
    "jupiter_moons.summary()"
   ]
  },
  {
   "cell_type": "markdown",
   "id": "3b4c8c92",
   "metadata": {},
   "source": [
    "Here is a statistical summary of the numerical information given. The correlations between these variables can also be displayed:"
   ]
  },
  {
   "cell_type": "code",
   "execution_count": 5,
   "id": "6f59459e",
   "metadata": {},
   "outputs": [
    {
     "name": "stderr",
     "output_type": "stream",
     "text": [
      "/Users/tomaswilliams/assessment1/jupiter.py:34: FutureWarning: The default value of numeric_only in DataFrame.corr is deprecated. In a future version, it will default to False. Select only valid columns or specify the value of numeric_only to silence this warning.\n",
      "  return self.data.corr()\n"
     ]
    },
    {
     "data": {
      "text/html": [
       "<div>\n",
       "<style scoped>\n",
       "    .dataframe tbody tr th:only-of-type {\n",
       "        vertical-align: middle;\n",
       "    }\n",
       "\n",
       "    .dataframe tbody tr th {\n",
       "        vertical-align: top;\n",
       "    }\n",
       "\n",
       "    .dataframe thead th {\n",
       "        text-align: right;\n",
       "    }\n",
       "</style>\n",
       "<table border=\"1\" class=\"dataframe\">\n",
       "  <thead>\n",
       "    <tr style=\"text-align: right;\">\n",
       "      <th></th>\n",
       "      <th>period_days</th>\n",
       "      <th>distance_km</th>\n",
       "      <th>radius_km</th>\n",
       "      <th>mag</th>\n",
       "      <th>mass_kg</th>\n",
       "      <th>ecc</th>\n",
       "      <th>inclination_deg</th>\n",
       "    </tr>\n",
       "  </thead>\n",
       "  <tbody>\n",
       "    <tr>\n",
       "      <th>period_days</th>\n",
       "      <td>1.000000</td>\n",
       "      <td>0.991521</td>\n",
       "      <td>-0.534434</td>\n",
       "      <td>0.742646</td>\n",
       "      <td>-0.504430</td>\n",
       "      <td>0.737181</td>\n",
       "      <td>0.969493</td>\n",
       "    </tr>\n",
       "    <tr>\n",
       "      <th>distance_km</th>\n",
       "      <td>0.991521</td>\n",
       "      <td>1.000000</td>\n",
       "      <td>-0.567266</td>\n",
       "      <td>0.799187</td>\n",
       "      <td>-0.453339</td>\n",
       "      <td>0.750819</td>\n",
       "      <td>0.953873</td>\n",
       "    </tr>\n",
       "    <tr>\n",
       "      <th>radius_km</th>\n",
       "      <td>-0.534434</td>\n",
       "      <td>-0.567266</td>\n",
       "      <td>1.000000</td>\n",
       "      <td>-0.887393</td>\n",
       "      <td>0.968379</td>\n",
       "      <td>-0.478901</td>\n",
       "      <td>-0.487645</td>\n",
       "    </tr>\n",
       "    <tr>\n",
       "      <th>mag</th>\n",
       "      <td>0.742646</td>\n",
       "      <td>0.799187</td>\n",
       "      <td>-0.887393</td>\n",
       "      <td>1.000000</td>\n",
       "      <td>-0.861359</td>\n",
       "      <td>0.554617</td>\n",
       "      <td>0.688529</td>\n",
       "    </tr>\n",
       "    <tr>\n",
       "      <th>mass_kg</th>\n",
       "      <td>-0.504430</td>\n",
       "      <td>-0.453339</td>\n",
       "      <td>0.968379</td>\n",
       "      <td>-0.861359</td>\n",
       "      <td>1.000000</td>\n",
       "      <td>-0.543138</td>\n",
       "      <td>-0.489378</td>\n",
       "    </tr>\n",
       "    <tr>\n",
       "      <th>ecc</th>\n",
       "      <td>0.737181</td>\n",
       "      <td>0.750819</td>\n",
       "      <td>-0.478901</td>\n",
       "      <td>0.554617</td>\n",
       "      <td>-0.543138</td>\n",
       "      <td>1.000000</td>\n",
       "      <td>0.645961</td>\n",
       "    </tr>\n",
       "    <tr>\n",
       "      <th>inclination_deg</th>\n",
       "      <td>0.969493</td>\n",
       "      <td>0.953873</td>\n",
       "      <td>-0.487645</td>\n",
       "      <td>0.688529</td>\n",
       "      <td>-0.489378</td>\n",
       "      <td>0.645961</td>\n",
       "      <td>1.000000</td>\n",
       "    </tr>\n",
       "  </tbody>\n",
       "</table>\n",
       "</div>"
      ],
      "text/plain": [
       "                 period_days  distance_km  radius_km       mag   mass_kg  \\\n",
       "period_days         1.000000     0.991521  -0.534434  0.742646 -0.504430   \n",
       "distance_km         0.991521     1.000000  -0.567266  0.799187 -0.453339   \n",
       "radius_km          -0.534434    -0.567266   1.000000 -0.887393  0.968379   \n",
       "mag                 0.742646     0.799187  -0.887393  1.000000 -0.861359   \n",
       "mass_kg            -0.504430    -0.453339   0.968379 -0.861359  1.000000   \n",
       "ecc                 0.737181     0.750819  -0.478901  0.554617 -0.543138   \n",
       "inclination_deg     0.969493     0.953873  -0.487645  0.688529 -0.489378   \n",
       "\n",
       "                      ecc  inclination_deg  \n",
       "period_days      0.737181         0.969493  \n",
       "distance_km      0.750819         0.953873  \n",
       "radius_km       -0.478901        -0.487645  \n",
       "mag              0.554617         0.688529  \n",
       "mass_kg         -0.543138        -0.489378  \n",
       "ecc              1.000000         0.645961  \n",
       "inclination_deg  0.645961         1.000000  "
      ]
     },
     "execution_count": 5,
     "metadata": {},
     "output_type": "execute_result"
    }
   ],
   "source": [
    "jupiter_moons.correlations()"
   ]
  },
  {
   "cell_type": "markdown",
   "id": "7812cfc6",
   "metadata": {},
   "source": [
    "The user might want to plot a scatter graph of any of the given variables. This can be done via the following method:"
   ]
  },
  {
   "cell_type": "code",
   "execution_count": 6,
   "id": "15c1004c",
   "metadata": {
    "scrolled": true
   },
   "outputs": [
    {
     "data": {
      "image/png": "[encoded data removed]",
      "text/plain": [
       "<Figure size 640x480 with 1 Axes>"
      ]
     },
     "metadata": {},
     "output_type": "display_data"
    }
   ],
   "source": [
    "jupiter_moons.scatter_plot(X = \"radius_km\", Y = \"mass_kg\")"
   ]
  },
  {
   "cell_type": "markdown",
   "id": "f7d44fa6",
   "metadata": {},
   "source": [
    "Additionaly the user might want to be displayed the distributions of each group corresponding to any chosen variable. The plot can be displayed in many ways as shown here: https://seaborn.pydata.org/generated/seaborn.catplot.html.\n",
    "Here is an example of how the could would be ran:"
   ]
  },
  {
   "cell_type": "code",
   "execution_count": 7,
   "id": "e5fb67aa",
   "metadata": {},
   "outputs": [
    {
     "data": {
      "image/png": "[encoded data removed]",
      "text/plain": [
       "<Figure size 500x500 with 1 Axes>"
      ]
     },
     "metadata": {},
     "output_type": "display_data"
    }
   ],
   "source": [
    "jupiter_moons.dis_plot(variable=\"period_days\", k=\"bar\")"
   ]
  },
  {
   "cell_type": "markdown",
   "id": "5257239b",
   "metadata": {},
   "source": [
    "<b><u>Jupiter's Mass</u></b>"
   ]
  },
  {
   "cell_type": "markdown",
   "id": "00c29cfe",
   "metadata": {},
   "source": [
    "The following method creates a linear regression model that calculates the mass of jupiter in kg using Kepler's laws. The equation $$T^2 = \\frac{4\\pi^2}{GM}a^3$$ can be used to approximate the mass of jupiter by plotting a graph of the period squared against the distance to jupiter cubed. The test train split method further validated the model."
   ]
  },
  {
   "cell_type": "code",
   "execution_count": 8,
   "id": "9a78b30c",
   "metadata": {},
   "outputs": [
    {
     "name": "stdout",
     "output_type": "stream",
     "text": [
      "1.9084748371223808e+27\n",
      "r2_score is 0.9875545341797609\n"
     ]
    },
    {
     "data": {
      "image/png": "[encoded data removed]",
      "text/plain": [
       "<Figure size 500x500 with 1 Axes>"
      ]
     },
     "metadata": {},
     "output_type": "display_data"
    }
   ],
   "source": [
    "jupiter_moons.jupiter_mass()"
   ]
  },
  {
   "cell_type": "markdown",
   "id": "78c0659d",
   "metadata": {},
   "source": [
    "The high r2 score of 0.986 gives confidence that this model is a good approximation of jupiter's mass."
   ]
  }
 ],
 "metadata": {
  "kernelspec": {
   "display_name": "Python 3 (ipykernel)",
   "language": "python",
   "name": "python3"
  },
  "language_info": {
   "codemirror_mode": {
    "name": "ipython",
    "version": 3
   },
   "file_extension": ".py",
   "mimetype": "text/x-python",
   "name": "python",
   "nbconvert_exporter": "python",
   "pygments_lexer": "ipython3",
   "version": "3.11.4"
  }
 },
 "nbformat": 4,
 "nbformat_minor": 5
}
